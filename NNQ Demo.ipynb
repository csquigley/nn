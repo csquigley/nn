{
 "cells": [
  {
   "cell_type": "code",
   "execution_count": 2,
   "id": "42b87c36",
   "metadata": {},
   "outputs": [],
   "source": [
    "#NNQ - Building a Neural Network from Scratch with only numpy, calculus and matrix multiplication \n",
    "\n",
    "#import standard ML libraries/tools\n",
    "import numpy as np \n",
    "import pandas as pd\n",
    "from sklearn.preprocessing import StandardScaler\n",
    "from sklearn.model_selection import train_test_split\n",
    "from sklearn.metrics import accuracy_score\n",
    "import matplotlib.pyplot as plt\n",
    "\n",
    "#import NNQ (I made these) modules\n",
    "from network import Network\n",
    "from layers import Layer, Dropout\n",
    "from costs import SquaredError,CrossEntropy\n",
    "from activ import ReLU, SoftMax, Sigmoid"
   ]
  },
  {
   "cell_type": "code",
   "execution_count": 3,
   "id": "34022485",
   "metadata": {},
   "outputs": [],
   "source": [
    "#create network with desired structure\n",
    "net = Network(Layer(4,20,ReLU),\n",
    "              Dropout(.4),\n",
    "              Layer(20,10,ReLU),\n",
    "              Dropout(.4),\n",
    "              Layer(10,10,ReLU),\n",
    "              Dropout(.4),\n",
    "              Layer(10,3,SoftMax))\n",
    "#set the cost function to CrossEntropy (because this is a multiclass prediction model (IE SOFTMAX))\n",
    "net.settings(cost=CrossEntropy,batch_size=8)"
   ]
  },
  {
   "cell_type": "code",
   "execution_count": 4,
   "id": "b3e27a2c",
   "metadata": {
    "scrolled": true
   },
   "outputs": [
    {
     "name": "stdout",
     "output_type": "stream",
     "text": [
      "Network Architecture\n",
      "Layer   - Inputs: 4, Outputs: 20, Activation: ReLU\n",
      "Dropout - p = (0.4)\n",
      "Layer   - Inputs: 20, Outputs: 10, Activation: ReLU\n",
      "Dropout - p = (0.4)\n",
      "Layer   - Inputs: 10, Outputs: 10, Activation: ReLU\n",
      "Dropout - p = (0.4)\n",
      "Layer   - Inputs: 10, Outputs: 3, Activation: SoftMax\n",
      "Cost Function: CrossEntropy\n",
      "\n",
      "Settings\n",
      "lr=0.001 batch_size=8 optimizer=No\n"
     ]
    }
   ],
   "source": [
    "#print the module architecture and settings\n",
    "net.info()"
   ]
  },
  {
   "cell_type": "code",
   "execution_count": 5,
   "id": "c40696cc",
   "metadata": {},
   "outputs": [],
   "source": [
    "#the default optimizer is Stochastic Gradient Descent\n"
   ]
  },
  {
   "cell_type": "code",
   "execution_count": 6,
   "id": "86dc9f12",
   "metadata": {},
   "outputs": [],
   "source": [
    "#import Iris Dataset (I copy pasted this part from the internet)\n",
    "url = 'https://archive.ics.uci.edu/ml/machine-learning-databases/iris/iris.data'\n",
    "# using the attribute information as the column names\n",
    "cols = ['Sepal_Length','Sepal_Width','Petal_Length','Petal_Width','Class']\n",
    "iris =  pd.read_csv(url, names = cols)"
   ]
  },
  {
   "cell_type": "code",
   "execution_count": 7,
   "id": "cd18e3d1",
   "metadata": {},
   "outputs": [
    {
     "data": {
      "text/html": [
       "<div>\n",
       "<style scoped>\n",
       "    .dataframe tbody tr th:only-of-type {\n",
       "        vertical-align: middle;\n",
       "    }\n",
       "\n",
       "    .dataframe tbody tr th {\n",
       "        vertical-align: top;\n",
       "    }\n",
       "\n",
       "    .dataframe thead th {\n",
       "        text-align: right;\n",
       "    }\n",
       "</style>\n",
       "<table border=\"1\" class=\"dataframe\">\n",
       "  <thead>\n",
       "    <tr style=\"text-align: right;\">\n",
       "      <th></th>\n",
       "      <th>Sepal_Length</th>\n",
       "      <th>Sepal_Width</th>\n",
       "      <th>Petal_Length</th>\n",
       "      <th>Petal_Width</th>\n",
       "      <th>Class</th>\n",
       "    </tr>\n",
       "  </thead>\n",
       "  <tbody>\n",
       "    <tr>\n",
       "      <th>0</th>\n",
       "      <td>5.1</td>\n",
       "      <td>3.5</td>\n",
       "      <td>1.4</td>\n",
       "      <td>0.2</td>\n",
       "      <td>Iris-setosa</td>\n",
       "    </tr>\n",
       "    <tr>\n",
       "      <th>1</th>\n",
       "      <td>4.9</td>\n",
       "      <td>3.0</td>\n",
       "      <td>1.4</td>\n",
       "      <td>0.2</td>\n",
       "      <td>Iris-setosa</td>\n",
       "    </tr>\n",
       "    <tr>\n",
       "      <th>2</th>\n",
       "      <td>4.7</td>\n",
       "      <td>3.2</td>\n",
       "      <td>1.3</td>\n",
       "      <td>0.2</td>\n",
       "      <td>Iris-setosa</td>\n",
       "    </tr>\n",
       "    <tr>\n",
       "      <th>3</th>\n",
       "      <td>4.6</td>\n",
       "      <td>3.1</td>\n",
       "      <td>1.5</td>\n",
       "      <td>0.2</td>\n",
       "      <td>Iris-setosa</td>\n",
       "    </tr>\n",
       "    <tr>\n",
       "      <th>4</th>\n",
       "      <td>5.0</td>\n",
       "      <td>3.6</td>\n",
       "      <td>1.4</td>\n",
       "      <td>0.2</td>\n",
       "      <td>Iris-setosa</td>\n",
       "    </tr>\n",
       "  </tbody>\n",
       "</table>\n",
       "</div>"
      ],
      "text/plain": [
       "   Sepal_Length  Sepal_Width  Petal_Length  Petal_Width        Class\n",
       "0           5.1          3.5           1.4          0.2  Iris-setosa\n",
       "1           4.9          3.0           1.4          0.2  Iris-setosa\n",
       "2           4.7          3.2           1.3          0.2  Iris-setosa\n",
       "3           4.6          3.1           1.5          0.2  Iris-setosa\n",
       "4           5.0          3.6           1.4          0.2  Iris-setosa"
      ]
     },
     "execution_count": 7,
     "metadata": {},
     "output_type": "execute_result"
    }
   ],
   "source": [
    "iris[:5]"
   ]
  },
  {
   "cell_type": "code",
   "execution_count": 8,
   "id": "647cc8e5",
   "metadata": {},
   "outputs": [],
   "source": [
    "#create dummy variables for the target variable\n",
    "target_dummies = pd.get_dummies(iris['Class'])"
   ]
  },
  {
   "cell_type": "code",
   "execution_count": 9,
   "id": "8bfde0a9",
   "metadata": {},
   "outputs": [],
   "source": [
    "#separate the predictor variables and convert them to numpy\n",
    "predictor_variables = iris[['Sepal_Length','Sepal_Width','Petal_Length','Petal_Width']].to_numpy()"
   ]
  },
  {
   "cell_type": "code",
   "execution_count": 10,
   "id": "39dc17bf",
   "metadata": {},
   "outputs": [],
   "source": [
    "#create a scaler object\n",
    "scaler = StandardScaler()\n",
    "#fit the dataset to the scaler object\n",
    "scaler.fit(predictor_variables)\n",
    "#scale the dataset\n",
    "X = scaler.transform(predictor_variables)\n",
    "y = target_dummies.to_numpy()"
   ]
  },
  {
   "cell_type": "code",
   "execution_count": 11,
   "id": "0cde941f",
   "metadata": {},
   "outputs": [],
   "source": [
    "#separate dataset into test and train sets. Also, data is shuffled, which is important.\n",
    "X_train, X_test, y_train, y_test = train_test_split(X,y,test_size=.2,shuffle=True)"
   ]
  },
  {
   "cell_type": "code",
   "execution_count": 12,
   "id": "35682086",
   "metadata": {},
   "outputs": [],
   "source": [
    "#connect the dataset to the model\n",
    "net.connect_data(X_train,y_train)"
   ]
  },
  {
   "cell_type": "code",
   "execution_count": 13,
   "id": "4cd666ab",
   "metadata": {
    "scrolled": true
   },
   "outputs": [
    {
     "name": "stdout",
     "output_type": "stream",
     "text": [
      "epoch: 100 | training loss 1.0818812714458084 | test loss 1.0514892008476884 | accuracy 0.0%\n",
      "epoch: 200 | training loss 1.0375561805446734 | test loss 0.9617396160641577 | accuracy 0.0%\n",
      "epoch: 300 | training loss 0.7491039992614931 | test loss 0.5115712861777184 | accuracy 53.33%\n",
      "epoch: 400 | training loss 0.40437328453058047 | test loss 0.2967972683553218 | accuracy 76.67%\n",
      "epoch: 500 | training loss 0.28503469798583825 | test loss 0.14162639163499866 | accuracy 90.0%\n",
      "epoch: 600 | training loss 0.2046463218231722 | test loss 0.05833081093810891 | accuracy 93.33%\n",
      "epoch: 700 | training loss 0.15283287924545727 | test loss 0.02585339685596514 | accuracy 93.33%\n",
      "epoch: 800 | training loss 0.11842025813916608 | test loss 0.013074265661611087 | accuracy 93.33%\n",
      "epoch: 900 | training loss 0.09541625425085998 | test loss 0.007451339252639863 | accuracy 93.33%\n",
      "epoch: 1000 | training loss 0.08016289553326258 | test loss 0.004620573562945656 | accuracy 93.33%\n",
      "epoch: 1100 | training loss 0.0701128655239868 | test loss 0.003124527089305555 | accuracy 93.33%\n",
      "epoch: 1200 | training loss 0.06346504528231103 | test loss 0.0022527996191328186 | accuracy 93.33%\n",
      "epoch: 1300 | training loss 0.05898336665770966 | test loss 0.0016991469982292901 | accuracy 93.33%\n",
      "epoch: 1400 | training loss 0.05586435545440849 | test loss 0.0013286351185748091 | accuracy 93.33%\n",
      "epoch: 1500 | training loss 0.053615130171398934 | test loss 0.0010717736975789408 | accuracy 93.33%\n",
      "epoch: 1600 | training loss 0.05193603668993482 | test loss 0.0008858493981759018 | accuracy 93.33%\n",
      "epoch: 1700 | training loss 0.05064312753904421 | test loss 0.0007484697178922447 | accuracy 93.33%\n",
      "epoch: 1800 | training loss 0.04962042890822512 | test loss 0.0006436237217205615 | accuracy 93.33%\n",
      "epoch: 1900 | training loss 0.048793878117455634 | test loss 0.0005623760394494131 | accuracy 96.67%\n",
      "epoch: 2000 | training loss 0.04811640237759373 | test loss 0.0004970404978355453 | accuracy 96.67%\n"
     ]
    }
   ],
   "source": [
    "#The training loop\n",
    "epochs = 2000\n",
    "training_costs = []\n",
    "test_losses = []\n",
    "test_loss_calculator = CrossEntropy()\n",
    "acc_per_epoch = []\n",
    "\n",
    "for n in range(epochs):\n",
    "    c = net.train()\n",
    "    training_costs.append(c)\n",
    "    ypreds = net.predict(X_test)\n",
    "    loss = test_loss_calculator.cost(ypreds,y_test)\n",
    "    test_losses.append(loss)\n",
    "    acc = accuracy_score(y_test,ypreds.round())\n",
    "    acc_per_epoch.append(acc)\n",
    "    if (n + 1) % 100 == 0:\n",
    "        print(f\"epoch: {n + 1} | training loss {c} | test loss {loss} | accuracy {round(acc*100,2)}%\")"
   ]
  },
  {
   "cell_type": "code",
   "execution_count": 14,
   "id": "495934c9",
   "metadata": {
    "scrolled": false
   },
   "outputs": [
    {
     "data": {
      "image/png": "[encoded data removed]",
      "text/plain": [
       "<Figure size 640x480 with 1 Axes>"
      ]
     },
     "metadata": {},
     "output_type": "display_data"
    }
   ],
   "source": [
    "#plot the model performance on training set and test set\n",
    "plt.plot(training_costs,label='training loss')\n",
    "plt.plot(test_losses,label='test loss')\n",
    "plt.plot(acc_per_epoch,label='accuracy')\n",
    "plt.xlabel('Epochs')\n",
    "plt.ylabel('Cost or Accuracy')\n",
    "plt.rcParams['figure.figsize'] = [10, 10]\n",
    "plt.legend()\n",
    "plt.title('NNQ Training/Test Cost and Accuracy per Epoch')\n",
    "plt.show()"
   ]
  },
  {
   "cell_type": "code",
   "execution_count": 15,
   "id": "89dc1c6f",
   "metadata": {},
   "outputs": [],
   "source": [
    "#Reasons test loss could be lower than training loss:\n",
    "#1. regularization not applied during testing (Dropout is turned off)\n",
    "#2. time of measurement: test loss is measured after each epoch. training loss is the \n",
    "# average for the epoch\n",
    "#3. the testing dataset may actually be simpler than the training data\n",
    "#4 There is some error in how I am calculating the loss (actually this is why) "
   ]
  },
  {
   "cell_type": "code",
   "execution_count": 16,
   "id": "edc8b573",
   "metadata": {},
   "outputs": [
    {
     "data": {
      "text/plain": [
       "array([[0, 0, 1],\n",
       "       [0, 1, 0],\n",
       "       [0, 1, 0],\n",
       "       [0, 1, 0],\n",
       "       [0, 1, 0]])"
      ]
     },
     "execution_count": 16,
     "metadata": {},
     "output_type": "execute_result"
    }
   ],
   "source": [
    "#examples of some predictions\n",
    "ypreds[:5].round().astype(np.int64)"
   ]
  },
  {
   "cell_type": "code",
   "execution_count": 17,
   "id": "f8c8ea0c",
   "metadata": {},
   "outputs": [
    {
     "data": {
      "text/plain": [
       "array([[0, 0, 1],\n",
       "       [0, 1, 0],\n",
       "       [0, 1, 0],\n",
       "       [0, 1, 0],\n",
       "       [0, 1, 0]], dtype=uint8)"
      ]
     },
     "execution_count": 17,
     "metadata": {},
     "output_type": "execute_result"
    }
   ],
   "source": [
    "#compare the above to the true labels here\n",
    "y_test[:5]"
   ]
  },
  {
   "cell_type": "code",
   "execution_count": 18,
   "id": "61176cde",
   "metadata": {},
   "outputs": [],
   "source": [
    "#save the model\n",
    "net.save('iris_classification_model.json')"
   ]
  },
  {
   "cell_type": "code",
   "execution_count": 19,
   "id": "fd1b1224",
   "metadata": {},
   "outputs": [],
   "source": [
    "#create a new Network object and load the architecture and weights of the first model\n",
    "net2 = Network()\n",
    "net2.load('iris_classification_model.json')"
   ]
  },
  {
   "cell_type": "code",
   "execution_count": 20,
   "id": "1b094613",
   "metadata": {},
   "outputs": [
    {
     "name": "stdout",
     "output_type": "stream",
     "text": [
      "Network Architecture\n",
      "Layer   - Inputs: 4, Outputs: 20, Activation: ReLU\n",
      "Dropout - p = (0.4)\n",
      "Layer   - Inputs: 20, Outputs: 10, Activation: ReLU\n",
      "Dropout - p = (0.4)\n",
      "Layer   - Inputs: 10, Outputs: 10, Activation: ReLU\n",
      "Dropout - p = (0.4)\n",
      "Layer   - Inputs: 10, Outputs: 3, Activation: SoftMax\n",
      "Cost Function: CrossEntropy\n",
      "\n",
      "Settings\n",
      "lr=0.001 batch_size=10 optimizer=No\n"
     ]
    }
   ],
   "source": [
    "#net2 loaded from the file has the same structure and weights as the model we trained earlier\n",
    "net2.info()"
   ]
  },
  {
   "cell_type": "code",
   "execution_count": null,
   "id": "4cfcea05",
   "metadata": {},
   "outputs": [],
   "source": [
    "#NNQ can be used on binary classification problems and regression problems. "
   ]
  },
  {
   "cell_type": "code",
   "execution_count": null,
   "id": "4a9a175e",
   "metadata": {},
   "outputs": [],
   "source": []
  }
 ],
 "metadata": {
  "kernelspec": {
   "display_name": "Python 3 (ipykernel)",
   "language": "python",
   "name": "python3"
  },
  "language_info": {
   "codemirror_mode": {
    "name": "ipython",
    "version": 3
   },
   "file_extension": ".py",
   "mimetype": "text/x-python",
   "name": "python",
   "nbconvert_exporter": "python",
   "pygments_lexer": "ipython3",
   "version": "3.9.0"
  }
 },
 "nbformat": 4,
 "nbformat_minor": 5
}
